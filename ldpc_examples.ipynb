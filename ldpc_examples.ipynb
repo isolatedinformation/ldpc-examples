{
 "cells": [
  {
   "cell_type": "code",
   "execution_count": 2,
   "metadata": {},
   "outputs": [],
   "source": [
    "from scipy.io import mmread\n",
    "import numpy as np\n",
    "import scipy.sparse as sparse"
   ]
  },
  {
   "cell_type": "code",
   "execution_count": 3,
   "metadata": {},
   "outputs": [],
   "source": [
    "Hx = mmread('55_codes/55_12_3_Hx.mtx')\n",
    "Hz = mmread('55_codes/55_12_3_Hz.mtx')\n",
    "logX = mmread(\"55_codes/55_12_3_logX.mtx\")\n",
    "logZ = mmread(\"55_codes/55_12_3_logZ.mtx\")"
   ]
  },
  {
   "cell_type": "code",
   "execution_count": 5,
   "metadata": {},
   "outputs": [
    {
     "name": "stdout",
     "output_type": "stream",
     "text": [
      "X parity checks  | Z parity checks\n",
      "[11  6  3  1  0] | [7 4 2 1 0]\n",
      "[17 10  5  2  0] | [12  8  5  3  0]\n",
      "[24 16  9  4  1] | [18 13  9  6  1]\n",
      "[27 23 14  7  2] | [25 14 13 10  2]\n",
      "[29 16 15  8  3] | [26 19 15 11  3]\n",
      "[26 20 19  7  4] | [25 20 16  8  4]\n",
      "[23 22 21 12  5] | [21 20 19 17  5]\n",
      "[29 22 13 10  6] | [27 23 22 11  6]\n",
      "[25 18 13 12  8] | [26 23 18 12  7]\n",
      "[28 26 18 15  9] | [28 27 24 14  9]\n",
      "[27 24 19 17 11] | [29 24 17 16 10]\n",
      "[28 25 21 20 14] | [29 28 22 21 15]\n",
      "\n",
      "log X   |  log Z \n",
      "[5 1 0] | [7 1 0]\n",
      "[8 1 0] | [10  1  0]\n",
      "[8 1 0] | [10  1  0]\n",
      "[3 2 0] | [7 1 0]\n",
      "[5 1 0] | [10  1  0]\n",
      "[8 1 0] | [4 2 0]\n",
      "[5 1 0] | [7 1 0]\n",
      "[8 2 0] | [10  1  0]\n"
     ]
    }
   ],
   "source": [
    "print(\"X parity checks  | Z parity checks\")\n",
    "for row in range(Hx.shape[0]):\n",
    "    print(f\"{Hx.getrow(row).indices} | {Hz.T.getrow(row).indices}\")\n",
    "\n",
    "print(\"\\nlog X   |  log Z \")\n",
    "for row in range(logX.shape[0]):\n",
    "    print(f\"{logX.getrow(row).indices} | {logZ.getrow(row).indices}\")"
   ]
  },
  {
   "cell_type": "code",
   "execution_count": 6,
   "metadata": {},
   "outputs": [],
   "source": [
    "Hx = mmread(\"55_codes/55_16_4_Hx.mtx\")\n",
    "Hz =mmread(\"55_codes/55_16_4_Hz.mtx\")\n",
    "logX = mmread(\"55_codes/55_16_4_logX.mtx\")\n",
    "logZ = mmread(\"55_codes/55_16_4_logZ.mtx\")"
   ]
  },
  {
   "cell_type": "code",
   "execution_count": 7,
   "metadata": {},
   "outputs": [
    {
     "name": "stdout",
     "output_type": "stream",
     "text": [
      "X parity checks  | Z parity checks\n",
      "[32 26 22  9  0] | [32 24 16  8  0]\n",
      "[34 30 17  8  0] | [34 28 23  9  0]\n",
      "[32 24 18 14  1] | [32 26 20 15  1]\n",
      "[34 28 21 15  1] | [34 30 19 14  1]\n",
      "[38 25 16  8  2] | [36 31 17  8  2]\n",
      "[36 29 23  9  2] | [38 27 22  9  2]\n",
      "[36 31 19 14  3] | [38 25 18 14  3]\n",
      "[38 27 20 15  3] | [36 29 21 15  3]\n",
      "[33 24 16 10  6] | [33 24 18 12  7]\n",
      "[33 26 20 13  7] | [33 26 22 11  6]\n",
      "[35 30 19 12  7] | [35 30 17 10  6]\n",
      "[35 28 23 11  6] | [35 28 21 13  7]\n",
      "[37 31 17 10  4] | [39 25 16 10  4]\n",
      "[39 27 22 11  4] | [37 29 23 11  4]\n",
      "[39 25 18 12  5] | [39 27 20 13  5]\n",
      "[37 29 21 13  5] | [37 31 19 12  5]\n",
      "\n",
      "log X   |  log Z \n",
      "[13 12  1  0] | [13 12  1  0]\n",
      "[3 2 1 0] | [3 2 1 0]\n",
      "[5 4 1 0] | [10  9  1  0]\n",
      "[11  8  1  0] | [5 4 1 0]\n",
      "[11  8  1  0] | [13  9  7  0]\n",
      "[15  8  4  0] | [13 12  1  0]\n",
      "[13 12  1  0] | [5 4 1 0]\n",
      "[15  8  4  0] | [13 12  1  0]\n",
      "[12 10  4  0] | [13 12  1  0]\n",
      "[11  8  1  0] | [13 12  1  0]\n"
     ]
    }
   ],
   "source": [
    "print(\"X parity checks  | Z parity checks\")\n",
    "for row in range(Hx.shape[0]):\n",
    "    print(f\"{Hx.getrow(row).indices} | {Hz.T.getrow(row).indices}\")\n",
    "\n",
    "print(\"\\nlog X   |  log Z \")\n",
    "for row in range(logX.shape[0]):\n",
    "    print(f\"{logX.getrow(row).indices} | {logZ.getrow(row).indices}\")"
   ]
  },
  {
   "cell_type": "code",
   "execution_count": null,
   "metadata": {},
   "outputs": [],
   "source": []
  }
 ],
 "metadata": {
  "kernelspec": {
   "display_name": "env-scipy-stack",
   "language": "python",
   "name": "python3"
  },
  "language_info": {
   "codemirror_mode": {
    "name": "ipython",
    "version": 3
   },
   "file_extension": ".py",
   "mimetype": "text/x-python",
   "name": "python",
   "nbconvert_exporter": "python",
   "pygments_lexer": "ipython3",
   "version": "3.10.2"
  },
  "orig_nbformat": 4,
  "vscode": {
   "interpreter": {
    "hash": "955daad8e5e7fb7c77cf82dbe982ad454a76568b204b04720e166ae24e4f0bc3"
   }
  }
 },
 "nbformat": 4,
 "nbformat_minor": 2
}
